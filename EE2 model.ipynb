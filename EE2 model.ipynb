{
 "cells": [
  {
   "cell_type": "markdown",
   "metadata": {},
   "source": [
    "# Wiskundig Model EE2\n",
    "Om er voor te zorgen dat het model juist werkt kan je best 'Run All' gebruiken. Voor het plotten van de grafiek is de library matplotlib gebruikt."
   ]
  },
  {
   "cell_type": "markdown",
   "metadata": {},
   "source": [
    "## Inputgegevens\n",
    "Bij de input en output is 4 het hoogste en 1 het laagste.\n",
    "Step zorgt ervoor dat het aantal berekende punten aangepast kan worden."
   ]
  },
  {
   "cell_type": "code",
   "execution_count": 36,
   "metadata": {},
   "outputs": [],
   "source": [
    "# Algemene constanten\n",
    "g = 9.81\n",
    "step = 0.01\n",
    "\n",
    "# Eigenschappen van de machine\n",
    "m1 = 1\n",
    "m2 = 1.01\n",
    "H = [0.075, 0.110]\n",
    "Hval = [0.05]\n",
    "L = [0.400, 0.850]\n",
    "stophoogte = 0.25\n",
    "\n",
    "# Zelf te kiezen\n",
    "inputhoogte = 4\n",
    "outputhoogte = 4\n"
   ]
  },
  {
   "cell_type": "markdown",
   "metadata": {},
   "source": [
    "## Programma"
   ]
  },
  {
   "cell_type": "code",
   "execution_count": 37,
   "metadata": {},
   "outputs": [],
   "source": [
    "# Import en algemene code\n",
    "import math\n",
    "\n",
    "# Initialisering \n",
    "t = []\n",
    "x = []\n",
    "v = []\n",
    "xtot = 0\n",
    "\n",
    "# Algemene kinetische berekeningen voor een fysisch mechanisme\n",
    "def xvalue(a,t,v0):\n",
    "    return v0*t+a*t**2/2\n",
    "\n",
    "def vvalue(a,t,v0):\n",
    "    return v0+a*t\n",
    "\n",
    "def mechanism(xmax, a):\n",
    "    global t,x,v,xtot\n",
    "    ttemp = []\n",
    "    xtemp = []\n",
    "    vtemp = []\n",
    "    while(True):\n",
    "        ttemp.append(len(t)*step+len(ttemp)*step)\n",
    "        xtemp.append(xvalue(a,len(ttemp)*step,0))\n",
    "        vtemp.append(vvalue(a,len(ttemp)*step,0))\n",
    "        if(max(xtemp)>=xmax):\n",
    "            break\n",
    "    t += ttemp\n",
    "    x += xtemp\n",
    "    v += vtemp\n",
    "    xtot += max(xtemp)\n",
    "\n",
    "# Berekeningen voor de specifieke mechanismen\n",
    "def helling(H,L):\n",
    "    a = g*H/math.sqrt(H**2+L**2)\n",
    "    xmax = math.sqrt(H**2+L**2)\n",
    "    mechanism(xmax,a)\n",
    "    \n",
    "def katrol(m1,m2,H):\n",
    "    a = g*(m2-m1)/(m1+m2)\n",
    "    xmax = H\n",
    "    mechanism(xmax,a)\n",
    "    \n",
    "def val(H):\n",
    "    a = g\n",
    "    xmax = H\n",
    "    mechanism(xmax,a)\n",
    "\n",
    "# Algoritme voor onze specifieke machine\n",
    "def machine(inputhoogte, outputhoogte):\n",
    "    for i in range(0, (inputhoogte-1)*2):\n",
    "        helling(H[0],L[0])\n",
    "        val(Hval[0])\n",
    "    helling(H[1],L[1])\n",
    "    val(Hval[0])\n",
    "    katrol(m1,m2,outputhoogte*stophoogte)\n",
    "\n",
    "    \n",
    "machine(inputhoogte, outputhoogte)"
   ]
  },
  {
   "cell_type": "markdown",
   "metadata": {},
   "source": [
    "## Grafiek\n",
    "De grafiek x(t) geeft de afgelegde afstand weer die de bal aflegt per obstakel. Dus niet de totale afstand over de tijd."
   ]
  },
  {
   "cell_type": "code",
   "execution_count": 38,
   "metadata": {
    "scrolled": true
   },
   "outputs": [
    {
     "data": {
      "image/png": "[encoded data removed]",
      "text/plain": [
       "<Figure size 432x288 with 1 Axes>"
      ]
     },
     "metadata": {
      "needs_background": "light"
     },
     "output_type": "display_data"
    }
   ],
   "source": [
    "# Code voor plotten van grafiek\n",
    "import matplotlib.pyplot as plt\n",
    "%matplotlib inline\n",
    "\n",
    "plt.plot(t,x, label=\"x(t)\")\n",
    "plt.plot(t,v, label=\"v(t)\")\n",
    "plt.title(\"Grafiek in functie van de tijd\")\n",
    "plt.legend()\n",
    "plt.show()"
   ]
  },
  {
   "cell_type": "markdown",
   "metadata": {},
   "source": [
    "## Bereikte waarden\n",
    "Vooral de totale tijd en hoogste snelheid zijn hier belangrijk. Als deze niet binnen de grenswaarden liggen kan het gewicht van de lift aangepast worden zodat de gevraagde waarden wel bereikt worden."
   ]
  },
  {
   "cell_type": "code",
   "execution_count": 39,
   "metadata": {},
   "outputs": [
    {
     "name": "stdout",
     "output_type": "stream",
     "text": [
      "Totale tijd: 12.42 s\n",
      "Hoogste snelheid: 1.47 m/s\n",
      "Totale afstand: 4.79 m\n"
     ]
    }
   ],
   "source": [
    "print(\"Totale tijd:\", round(max(t),2), \"s\")\n",
    "print(\"Hoogste snelheid:\", round(max(v),2), \"m/s\")\n",
    "print(\"Totale afstand:\", round(xtot,2) ,\"m\")"
   ]
  },
  {
   "cell_type": "markdown",
   "metadata": {},
   "source": [
    "## Aanmaken csv file\n",
    "Dit csv bestand kan eventueel in excel geimporteerd worden."
   ]
  },
  {
   "cell_type": "code",
   "execution_count": 40,
   "metadata": {},
   "outputs": [],
   "source": [
    "import csv\n",
    "\n",
    "def makecsv():\n",
    "    with open('data.csv', 'w', newline='') as f:\n",
    "        thewriter = csv.writer(f)  \n",
    "        thewriter.writerow(['t','x','v'])\n",
    "        \n",
    "        for i in range(0,len(t)):        \n",
    "            thewriter.writerow([t[i],x[i],v[i]])\n",
    "            \n",
    "makecsv()"
   ]
  }
 ],
 "metadata": {
  "kernelspec": {
   "display_name": "Python 3",
   "language": "python",
   "name": "python3"
  },
  "language_info": {
   "codemirror_mode": {
    "name": "ipython",
    "version": 3
   },
   "file_extension": ".py",
   "mimetype": "text/x-python",
   "name": "python",
   "nbconvert_exporter": "python",
   "pygments_lexer": "ipython3",
   "version": "3.7.1"
  }
 },
 "nbformat": 4,
 "nbformat_minor": 2
}
